{
 "cells": [
  {
   "cell_type": "markdown",
   "id": "8350c07b-6f1c-4f8e-950f-e594f345b426",
   "metadata": {},
   "source": [
    "# Sample Notebook"
   ]
  },
  {
   "cell_type": "code",
   "execution_count": 1,
   "id": "e15a408f-d6f4-45ca-9197-2519b5169003",
   "metadata": {},
   "outputs": [
    {
     "name": "stdout",
     "output_type": "stream",
     "text": [
      "hello\n"
     ]
    }
   ],
   "source": [
    "print('hello');"
   ]
  }
 ],
 "metadata": {
  "kernelspec": {
   "display_name": "Python 3 (ipykernel)",
   "language": "python",
   "name": "python3"
  },
  "language_info": {
   "codemirror_mode": {
    "name": "ipython",
    "version": 3
   },
   "file_extension": ".py",
   "mimetype": "text/x-python",
   "name": "python",
   "nbconvert_exporter": "python",
   "pygments_lexer": "ipython3",
   "version": "3.11.0"
  }
 },
 "nbformat": 4,
 "nbformat_minor": 5
}
